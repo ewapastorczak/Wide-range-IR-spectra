{
 "cells": [
  {
   "cell_type": "code",
   "execution_count": 16,
   "id": "341d78ae",
   "metadata": {},
   "outputs": [],
   "source": [
    "import matplotlib.pyplot as plt\n",
    "import numpy as np\n",
    "from numpy import genfromtxt\n",
    "from scipy.signal import find_peaks"
   ]
  },
  {
   "cell_type": "code",
   "execution_count": 17,
   "id": "5b533e9d",
   "metadata": {},
   "outputs": [
    {
     "name": "stdout",
     "output_type": "stream",
     "text": [
      "[[ 3.99212300e+02  8.36399495e-02]\n",
      " [ 4.00176600e+02  2.58413040e-02]\n",
      " [ 4.01140900e+02  2.04967984e-02]\n",
      " ...\n",
      " [ 3.99887300e+03 -1.90651210e-02]\n",
      " [ 3.99983800e+03 -1.88968018e-02]\n",
      " [ 4.00080200e+03  0.00000000e+00]]\n"
     ]
    }
   ],
   "source": [
    "#Data  in two columns without headers, separated by comma\n",
    "exp_spec = genfromtxt('/Users/Ewa 1/Dropbox/Sheet1.csv', delimiter=',',dtype=float)\n",
    "print(exp_spec)"
   ]
  },
  {
   "cell_type": "code",
   "execution_count": 18,
   "id": "1597d870",
   "metadata": {},
   "outputs": [],
   "source": [
    "wavenumbers=exp_spec[:,0]\n",
    "heights=exp_spec[:,1]/max(exp_spec[:,1])\n",
    "H=0.02\n",
    "T=0.0\n",
    "D=8\n",
    "#experimental resolution\n",
    "res=8.0"
   ]
  },
  {
   "cell_type": "code",
   "execution_count": 19,
   "id": "be842bef",
   "metadata": {},
   "outputs": [],
   "source": [
    "#height - minimal height of the peak, threshold - minimal vertical distance between a peak and its neighbor, Distance - minimal distance\n",
    "peaks, _ = find_peaks(heights,height=H,threshold=T,distance=D)\n",
    "y=[wavenumbers[j] for j in peaks]"
   ]
  },
  {
   "cell_type": "code",
   "execution_count": 20,
   "id": "e247aa07",
   "metadata": {},
   "outputs": [
    {
     "name": "stdout",
     "output_type": "stream",
     "text": [
      "Peaks detected of min. height of 0.02, vertical threshold 0.0 and 8-point distance between neighbors are: \n",
      "[555.4258, 615.2113, 738.6393, 806.1389, 851.4601, 933.424, 978.7452, 986.4595, 1061.673, 1133.995, 1182.208, 1192.816, 1274.78, 1303.708, 1336.494, 1365.422, 1443.529, 1594.921, 1653.742, 2925.629]\n",
      "20 peaks fulfilling the criteria in experimental spectrum\n"
     ]
    }
   ],
   "source": [
    "print(\"Peaks detected of min. height of {}, vertical threshold {} and {}-point distance between neighbors are: \".format(H,T,D))\n",
    "print(y)\n",
    "no_of_peaks=len(y)\n",
    "print(\"{} peaks fulfilling the criteria in experimental spectrum\".format(no_of_peaks))\n"
   ]
  },
  {
   "cell_type": "code",
   "execution_count": 21,
   "id": "7f68cacf",
   "metadata": {},
   "outputs": [
    {
     "name": "stdout",
     "output_type": "stream",
     "text": [
      "[[-500.    0.    0.]\n",
      " [-499.    0.    0.]\n",
      " [-498.    0.    0.]\n",
      " ...\n",
      " [3497.    0.    0.]\n",
      " [3498.    0.    0.]\n",
      " [3499.    0.    0.]]\n"
     ]
    }
   ],
   "source": [
    "theo_spec=genfromtxt('68 closed PBE0D3 poszerzone 4cm-1.txt', delimiter='     ',dtype=float)\n",
    "print(theo_spec)"
   ]
  },
  {
   "cell_type": "code",
   "execution_count": 22,
   "id": "6e7a6846",
   "metadata": {},
   "outputs": [
    {
     "name": "stdout",
     "output_type": "stream",
     "text": [
      "Theoretical peaks detected of min. height of 0.02, vertical threshold 0.0 and 8-point distance between neighbors are: \n",
      "[326.37, 461.863, 541.972, 558.785, 571.6419999999999, 616.147, 703.179, 785.266, 800.101, 865.375, 888.122, 902.957, 931.638, 944.495, 957.352, 967.242, 1015.703, 1052.296, 1063.175, 1092.845, 1108.669, 1130.427, 1191.745, 1216.47, 1230.316, 1254.052, 1268.887, 1280.7549999999999, 1289.656, 1311.414, 1328.227, 1372.732, 1385.589, 1398.446, 1432.072, 1453.83, 1471.632, 1514.1589999999999, 1575.477, 1590.312, 1649.652, 1671.41, 1699.102, 3027.329, 3043.153, 3123.262, 3167.767, 3197.437, 3213.261]\n",
      "49 peaks fulfilling the criteria in theoretical spectrum\n"
     ]
    }
   ],
   "source": [
    "#scaling factor for given functional\n",
    "SF=0.989\n",
    "#height - minimal height of the peak, threshold - minimal vertical distance between a peak and its neighbor, Distance - minimal distance\n",
    "wavenumbers_theo=SF*theo_spec[:,0]\n",
    "heights_theo=theo_spec[:,1]/max(theo_spec[:,1])\n",
    "D=8\n",
    "peaks_theo, _ = find_peaks(heights_theo,height=H,threshold=T,distance=D)\n",
    "y_theo=[wavenumbers_theo[j] for j in peaks_theo]\n",
    "print(\"Theoretical peaks detected of min. height of {}, vertical threshold {} and {}-point distance between neighbors are: \".format(H,T,D))\n",
    "print(y_theo)\n",
    "no_of_peaks=len(y_theo)\n",
    "print(\"{} peaks fulfilling the criteria in theoretical spectrum\".format(no_of_peaks))"
   ]
  },
  {
   "cell_type": "code",
   "execution_count": 23,
   "id": "bc248291",
   "metadata": {},
   "outputs": [
    {
     "data": {
      "image/png": "[encoded data removed]",
      "text/plain": [
       "<Figure size 432x288 with 1 Axes>"
      ]
     },
     "metadata": {
      "needs_background": "light"
     },
     "output_type": "display_data"
    }
   ],
   "source": [
    "plt.plot(wavenumbers,heights)\n",
    "plt.ylim(ymin=0,ymax=1)\n",
    "plt.xlim(xmin=400,xmax=4000)\n",
    "plt.plot(y,heights[peaks],\"x\")\n",
    "#fig, ax = plt.subplots()\n",
    "plt.stem(wavenumbers_theo, heights_theo,markerfmt=' ',linefmt='grey')\n",
    "plt.ylim(ymin=0,ymax=1)\n",
    "plt.xlim(xmin=400,xmax=4000)\n",
    "plt.show()"
   ]
  },
  {
   "cell_type": "code",
   "execution_count": 24,
   "id": "f8dff5d9",
   "metadata": {},
   "outputs": [],
   "source": [
    "#Select theoretical peaks for comparison\n",
    "#first=np.array([res+1.0])\n",
    "\n",
    "#resolution_table=np.concatenate([first,np.ediff1d(wavenumbers_theo)])\n",
    "\n",
    "#selected_theo_idx = np.where(np.logical_and(heights_theo > 2.0*H, wavenumbers_theo > 350,resolution_table>res))[0]\n",
    "#print(\"{} peaks fulfilling the criteria in theoretical spectrum\".format(len(selected_theo_idx)))"
   ]
  },
  {
   "cell_type": "code",
   "execution_count": 25,
   "id": "c45ca3a9",
   "metadata": {},
   "outputs": [
    {
     "data": {
      "image/png": "[encoded data removed]",
      "text/plain": [
       "<Figure size 432x288 with 1 Axes>"
      ]
     },
     "metadata": {
      "needs_background": "light"
     },
     "output_type": "display_data"
    }
   ],
   "source": [
    "plt.plot(wavenumbers,heights)\n",
    "plt.ylim(ymin=0,ymax=1)\n",
    "plt.xlim(xmin=400,xmax=4000)\n",
    "plt.plot(y,heights[peaks],\"x\")\n",
    "#fig, ax = plt.subplots()\n",
    "plt.stem(y_theo, heights_theo[peaks_theo],markerfmt=' ',linefmt='grey')\n",
    "#plt.stem(y_theo,heights[peaks_theo] ,markerfmt=' ',linefmt='grey')\n",
    "plt.ylim(ymin=0,ymax=1)\n",
    "plt.xlim(xmin=400,xmax=3000)\n",
    "plt.show()"
   ]
  },
  {
   "cell_type": "code",
   "execution_count": 43,
   "id": "75e04e54",
   "metadata": {},
   "outputs": [
    {
     "name": "stdout",
     "output_type": "stream",
     "text": [
      "Error calculation:\n",
      "0\n",
      "(229.05579999999998, 555.4258, 326.37)\n",
      "error >  30.0 , skipping the predicted peak\n",
      "(93.56279999999998, 555.4258, 461.863)\n",
      "error >  30.0 , skipping the predicted peak\n",
      "1\n",
      "(43.56930000000011, 615.2113, 571.6419999999999)\n",
      "error >  30.0 , skipping the predicted peak\n",
      "2\n",
      "(35.460300000000075, 738.6393, 703.179)\n",
      "error >  30.0 , skipping the predicted peak\n",
      "3\n",
      "4\n",
      "5\n",
      "(45.30200000000002, 933.424, 888.122)\n",
      "error >  30.0 , skipping the predicted peak\n",
      "(30.466999999999985, 933.424, 902.957)\n",
      "error >  30.0 , skipping the predicted peak\n",
      "6\n",
      "(34.25019999999995, 978.7452, 944.495)\n",
      "error >  30.0 , skipping the predicted peak\n",
      "7\n",
      "8\n",
      "9\n",
      "(41.149999999999864, 1133.995, 1092.845)\n",
      "error >  30.0 , skipping the predicted peak\n",
      "10\n",
      "11\n",
      "12\n",
      "(44.46399999999994, 1274.78, 1230.316)\n",
      "error >  30.0 , skipping the predicted peak\n",
      "13\n",
      "14\n",
      "15\n",
      "16\n",
      "(57.940000000000055, 1443.529, 1385.589)\n",
      "error >  30.0 , skipping the predicted peak\n",
      "(45.083000000000084, 1443.529, 1398.446)\n",
      "error >  30.0 , skipping the predicted peak\n",
      "17\n",
      "(123.28899999999999, 1594.921, 1471.632)\n",
      "error >  30.0 , skipping the predicted peak\n",
      "(80.76200000000017, 1594.921, 1514.1589999999999)\n",
      "error >  30.0 , skipping the predicted peak\n",
      "18\n",
      "19\n",
      "(1254.2189999999998, 2925.629, 1671.41)\n",
      "error >  30.0 , skipping the predicted peak\n",
      "(1226.5269999999998, 2925.629, 1699.102)\n",
      "error >  30.0 , skipping the predicted peak\n",
      "\n",
      " Assigned peaks: \n",
      "\n",
      "   |Experimental | Scaled theoretical |  Theoretical unscaled  | cm-1\n",
      "0  |  555.4258  |  558.785          |  565.0  |\n",
      "1  |  615.2113  |  616.147          |  623.0  |\n",
      "2  |  738.6393  |  785.266          |  794.0  |\n",
      "3  |  806.1389  |  800.101          |  809.0  |\n",
      "4  |  851.4601  |  865.375          |  875.0  |\n",
      "5  |  933.424  |  931.638          |  942.0  |\n",
      "6  |  978.7452  |  967.242          |  978.0  |\n",
      "7  |  986.4595  |  1015.703          |  1027.0  |\n",
      "8  |  1061.673  |  1063.175          |  1075.0  |\n",
      "9  |  1133.995  |  1130.427          |  1143.0  |\n",
      "10  |  1182.208  |  1191.745          |  1205.0  |\n",
      "11  |  1192.816  |  1216.47          |  1230.0  |\n",
      "12  |  1274.78  |  1268.887          |  1283.0  |\n",
      "13  |  1303.708  |  1289.656          |  1304.0  |\n",
      "14  |  1336.494  |  1328.227          |  1343.0  |\n",
      "15  |  1365.422  |  1372.732          |  1388.0  |\n",
      "16  |  1443.529  |  1453.83          |  1470.0  |\n",
      "17  |  1594.921  |  1590.312          |  1608.0  |\n",
      "18  |  1653.742  |  1649.652          |  1668.0  |\n",
      "19  |  2925.629  |  3027.329          |  3061.0  |\n",
      "\n",
      " Mean absolute error: \n",
      "\n",
      "MAE = 15.39 cm-1\n",
      "\n",
      " NOW RIGHT TO LEFT \n",
      "\n"
     ]
    },
    {
     "ename": "IndexError",
     "evalue": "list index out of range",
     "output_type": "error",
     "traceback": [
      "\u001b[0;31m---------------------------------------------------------------------------\u001b[0m",
      "\u001b[0;31mIndexError\u001b[0m                                Traceback (most recent call last)",
      "\u001b[0;32m/var/folders/21/yfg3yp7x6bd0q28q_7c9364c0000gp/T/ipykernel_2418/2115906549.py\u001b[0m in \u001b[0;36m<module>\u001b[0;34m\u001b[0m\n\u001b[1;32m     51\u001b[0m \u001b[0;32mfor\u001b[0m \u001b[0mi\u001b[0m \u001b[0;32min\u001b[0m \u001b[0mreversed\u001b[0m\u001b[0;34m(\u001b[0m\u001b[0mrange\u001b[0m\u001b[0;34m(\u001b[0m\u001b[0mlen\u001b[0m\u001b[0;34m(\u001b[0m\u001b[0my\u001b[0m\u001b[0;34m)\u001b[0m\u001b[0;34m)\u001b[0m\u001b[0;34m)\u001b[0m\u001b[0;34m:\u001b[0m\u001b[0;34m\u001b[0m\u001b[0;34m\u001b[0m\u001b[0m\n\u001b[1;32m     52\u001b[0m             \u001b[0;32mwhile\u001b[0m \u001b[0;32mTrue\u001b[0m\u001b[0;34m:\u001b[0m\u001b[0;34m\u001b[0m\u001b[0;34m\u001b[0m\u001b[0m\n\u001b[0;32m---> 53\u001b[0;31m                 \u001b[0;32mif\u001b[0m \u001b[0my\u001b[0m\u001b[0;34m[\u001b[0m\u001b[0mi\u001b[0m\u001b[0;34m]\u001b[0m\u001b[0;34m-\u001b[0m\u001b[0my_theo\u001b[0m\u001b[0;34m[\u001b[0m\u001b[0mj\u001b[0m\u001b[0;34m]\u001b[0m\u001b[0;34m<\u001b[0m\u001b[0;34m-\u001b[0m\u001b[0;36m50.0\u001b[0m \u001b[0;34m:\u001b[0m\u001b[0;34m\u001b[0m\u001b[0;34m\u001b[0m\u001b[0m\n\u001b[0m\u001b[1;32m     54\u001b[0m  \u001b[0;31m#           print('error > 50, skipping the predicted peak')\u001b[0m\u001b[0;34m\u001b[0m\u001b[0;34m\u001b[0m\u001b[0;34m\u001b[0m\u001b[0m\n\u001b[1;32m     55\u001b[0m \u001b[0;31m#            print(i,j,wavenumbers[i])\u001b[0m\u001b[0;34m\u001b[0m\u001b[0;34m\u001b[0m\u001b[0;34m\u001b[0m\u001b[0m\n",
      "\u001b[0;31mIndexError\u001b[0m: list index out of range"
     ]
    }
   ],
   "source": [
    "#Calculate errors\n",
    "print(\"Error calculation:\")\n",
    "\n",
    "#tolerance\n",
    "tol=30.0\n",
    "\n",
    "error=[]\n",
    "j=0\n",
    "#print(range(len(y)))\n",
    "#print(range(len(y_theo)))\n",
    "assigned=[]\n",
    "for i in range(len(y)):\n",
    "        print(i)\n",
    "        while True:\n",
    "            if y[i]-y_theo[j]>tol :\n",
    "                print((y[i]-y_theo[j],y[i],y_theo[j]))\n",
    "                print('error > ',tol,', skipping the predicted peak')\n",
    "                j=j+1\n",
    "            else:\n",
    "                if y[i]>500 and y_theo[j]>500:\n",
    "                    if abs(y[i]-y_theo[j])<abs(y[i]-y_theo[j+1]):\n",
    "                        error.append(y[i]-y_theo[j])\n",
    "                        assigned.append([y[i],y_theo[j]])\n",
    "                    else:\n",
    "                        j=j+1\n",
    "                        error.append(y[i]-y_theo[j])\n",
    "                        assigned.append([y[i],y_theo[j]])\n",
    "#                print((y[i]-y_theo[j],y[i],y_theo[j]))\n",
    "#                print(i,j)\n",
    "                j=j+1\n",
    "                break\n",
    "\n",
    "\n",
    "print(\"\\n Assigned peaks: \\n\")\n",
    "print(\"   |Experimental | Scaled theoretical |  Theoretical unscaled  | cm-1\")\n",
    "k=0\n",
    "for i in assigned:\n",
    "    print(k,\" | \",i[0],\" | \",i[1],\"         | \", i[1]/SF,\" |\")\n",
    "    k=k+1\n",
    "\n",
    "print(\"\\n Mean absolute error: \\n\")\n",
    "MAE=   sum(abs(i) for i in error)/len(peaks)\n",
    "print(\"MAE = {} cm-1\".format(round(MAE,2)))\n",
    "\n",
    "#reverse order matching\n",
    "print(\"\\n NOW RIGHT TO LEFT \\n\")\n",
    "\n",
    "\n",
    "error=[]\n",
    "j=len(y_theo)\n",
    "for i in reversed(range(len(y))):      \n",
    "            while True:\n",
    "                if y[i]-y_theo[j]<-50.0 :\n",
    " #           print('error > 50, skipping the predicted peak')\n",
    "#            print(i,j,wavenumbers[i])\n",
    "                    j=j-1\n",
    "                else:\n",
    "                    if y[i]>500 and y_theo[j]>500:\n",
    "                        error.append(y[i]-y_theo[j])        \n",
    "                    print((y[i]-y_theo[j],y[i],y_theo[j]))\n",
    "                    print(i,j-1)\n",
    "                    j=j-1\n",
    "                    break\n",
    "MAE=   sum(abs(i) for i in error)/len(peaks)\n",
    "print(\"MAE={}\".format(MAE))\n",
    "    "
   ]
  },
  {
   "cell_type": "code",
   "execution_count": null,
   "id": "927421fa",
   "metadata": {},
   "outputs": [],
   "source": []
  }
 ],
 "metadata": {
  "kernelspec": {
   "display_name": "Python 3 (ipykernel)",
   "language": "python",
   "name": "python3"
  },
  "language_info": {
   "codemirror_mode": {
    "name": "ipython",
    "version": 3
   },
   "file_extension": ".py",
   "mimetype": "text/x-python",
   "name": "python",
   "nbconvert_exporter": "python",
   "pygments_lexer": "ipython3",
   "version": "3.7.3"
  }
 },
 "nbformat": 4,
 "nbformat_minor": 5
}
