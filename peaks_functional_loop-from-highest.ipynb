{
 "cells": [
  {
   "cell_type": "code",
   "execution_count": 78,
   "metadata": {},
   "outputs": [],
   "source": [
    "import matplotlib.pyplot as plt\n",
    "import numpy as np\n",
    "from numpy import genfromtxt\n",
    "from scipy.signal import find_peaks\n",
    "import sys\n",
    "import os\n",
    "import pandas as pd"
   ]
  },
  {
   "cell_type": "code",
   "execution_count": 79,
   "metadata": {},
   "outputs": [],
   "source": [
    "#Function definitions\n",
    "#Import theoretical spectra. Names follow the convention \"molecule form wide functional\"\n",
    "#molecule='68'\n",
    "#form='closed'\n",
    "#functional=['pbe0','pbe0-d3']\n",
    "def read_theo(mol,f,fun):\n",
    "    script_dir = os.getcwd()\n",
    "    filename=mol+' '+f+\" wide \"+fun+'.txt'\n",
    "#Relative path to directory with theoretical spectra e.g. 0068_closed\n",
    "    rel_path='00'+mol+'_'+f+'/'\n",
    "    path=os.path.join(script_dir,rel_path)\n",
    "    theo_spec=genfromtxt(path+filename, delimiter='     ',dtype=float)\n",
    "    return theo_spec\n",
    "#Theoretical peak detection\n",
    "def theo_peaks(SF,wavenumbers_theo,heights_theo):\n",
    "    #D=8\n",
    "    D=2\n",
    "    H=0.02\n",
    "    peaks_theo, _ = find_peaks(heights_theo,height=H,threshold=T,distance=D)\n",
    "    return peaks_theo\n",
    "#error calculation\n",
    "#Calculate errors\n",
    "def calculate_MAE():\n",
    "    print(\"Error calculation:\")\n",
    "    #ADJUSTABLE PARAMETERS\n",
    "    #tolerance for wavenumbers (when range jump is required)\n",
    "    tol=100.0\n",
    "    #tolerance for height ratio (when the exp and theoretical heights are so off that the band assignement must be wrong)\n",
    "    htol=5.0\n",
    "    error=[]\n",
    "    \n",
    "    #Start from the highest experimental peak\n",
    "    max_exp = max(range(len(h_exp)), key=h_exp.__getitem__)\n",
    "    print(\"Maximum exp. peak at \",y[max_exp],\" height: \",h_exp[max_exp])\n",
    "    #Start close with theoretical peaks\n",
    "    max_position=y[max_exp]\n",
    "    lst=[abs(i-max_position) for i in y_theo]\n",
    "    max_theo = np.argmin(lst)\n",
    "    print(\"Starting peak at \",y_theo[max_theo],\" height: \",h_theo[max_theo])\n",
    "    \n",
    "    #Starting index for theoretical spectrum\n",
    "    j=max_theo-5\n",
    "\n",
    "    assigned=[]\n",
    "    assigned_theo_number=[]\n",
    "    assigned_exp_number=[]\n",
    "# Starting index for experimental spectrum. We go right first.\n",
    "    for i in range(max_exp,len(y)):\n",
    "     #   print(i)\n",
    "        while True:\n",
    "            if y[i]<500:\n",
    "                break\n",
    "            if j==len(y_theo)-1:\n",
    "                print(\"End of theoretical spectrum\")\n",
    "                break\n",
    "   #         elif i==len(y)-1:\n",
    "    #            print(\"End of experimental spectrum\")\n",
    "     #           break\n",
    "            else:\n",
    "                if y[i]-y_theo[j]<-tol :\n",
    "                    print('error > ',tol,', skipping the experimental peak ',y[i],' cm-1 height ',h_exp[i])\n",
    "                    break\n",
    "     #           print(heights[i])\n",
    "     #           print(heights_theo[j])\n",
    "\n",
    "   #             if abs(y[i]-y_theo[j])<abs(y[i]-y_theo[j+1]):\n",
    "                if abs(y[i]-y_theo[j])<abs(y[i]-y_theo[j+1]) and h_exp[i]/h_theo[j]<htol and h_theo[j]/h_exp[i]<htol:\n",
    "                        if y[i]-y_theo[j]>tol or  y[i]-y_theo[j]<-tol:\n",
    "                            print((y[i]-y_theo[j],y[i],y_theo[j]))\n",
    "                            print('error > ',tol,', skipping the experimental peak')\n",
    "                            break\n",
    "                        else:\n",
    "                            error.append(y[i]-y_theo[j])\n",
    "                            assigned.append([y[i],y_theo[j]])\n",
    "                            assigned_theo_number.append(j)\n",
    "                            assigned_exp_number.append(i) \n",
    "                        \n",
    "   #                     print(\"IF\",(y[i]-y_theo[j],y[i],y_theo[j]))\n",
    "    #                    print(h_exp[i])\n",
    "    #                    print(h_theo[j])\n",
    "    #                    print(heights[i])\n",
    "   #                     print(heights_theo[j])\n",
    "                            j=j+1\n",
    "                            break\n",
    "                else:\n",
    "                        j=j+1\n",
    "      #                  print(\"ELSE\",(y[i]-y_theo[j],y[i],y_theo[j]))\n",
    "     #                   print((y[i]-y_theo[j+1],y[i],y_theo[j+1]))\n",
    "     #                   print(h_exp[i])\n",
    "     #                   print(h_theo[j])\n",
    "#                        error.append(y[i]-y_theo[j])\n",
    "#                        assigned.append([y[i],y_theo[j]])\n",
    "#                print(i,j)\n",
    "\n",
    " #   print(assigned_theo_number)\n",
    " #   print(assigned_exp_number)\n",
    "#print(heights)\n",
    "#print(heights_theo)\n",
    "    print(\"\\n {} peaks were assigned. Scaling factor of {} was used for the theoretical spectrum.\\n\".format(len(error),SF))\n",
    "  #  t=[range(len(error)),assigned[0], assigned [1],[i/SF for i in assigned[1]], [h_exp[i] for i in assigned_exp_number],[h_theo[i] for i in assigned_theo_number]]\n",
    "  #  df=pd.DataFrame(assigned,[i/SF for i in assigned[1]], [h_exp[i] for i in assigned_exp_number],[h_theo[i] for i in assigned_theo_number],[\"Exp. waveno. \",\" Scaled theor. waveno.\",\"  Theor. unscaled waveno \",\"   Exp. peak height \",\" Theor. peak height\"])\n",
    "    df=pd.DataFrame(assigned,columns=[\"Exp. waveno.\",\"Scaled theo. waveno.\"])\n",
    " #   df[\"Theor. unscaled waveno\"]=[i/SF for i in assigned[1]]\n",
    "    df[\"Exp. peak height\"]=[h_exp[i] for i in assigned_exp_number]\n",
    "    df[\"Theo. peak height\"]=[h_theo[i] for i in assigned_theo_number]\n",
    "    df['Deviations']=df[\"Exp. waveno.\"]-df[\"Scaled theo. waveno.\"]\n",
    "    display(df)\n",
    " #   table=tabulate(transposedT,headers= [\"Exp. waveno. \",\" Scaled theor. waveno.\",\"  Theor. unscaled waveno \",\"   Exp. peak height \",\" Theor. peak height\"],tablefmt='simple')\n",
    " #   print(table)\n",
    "   # print(\"   |Exp. waveno. | Scaled theor. waveno. |  Theor. unscaled waveno | cm-1|   Exp. peak height (normalized) | Theor. peak height (normalized)\")\n",
    " #   k=0\n",
    "#    for i in assigned:\n",
    " #       w=assigned_exp_number[k]\n",
    " #       v=assigned_theo_number[k]\n",
    " #       print(k,\" | \",i[0],\" | \",i[1],\"         | \", i[1]/SF,\" |    |\",h_exp[w],\"         | \",h_theo[v])\n",
    "  #      k=k+1\n",
    "\n",
    "    print(\"\\n Mean absolute error: \\n\")\n",
    "    MAE=   sum(abs(i) for i in error)/len(error)\n",
    "    print(\"MAE = {} cm-1\".format(round(MAE,2)))\n",
    "    return MAE,len(error)\n"
   ]
  },
  {
   "cell_type": "code",
   "execution_count": null,
   "metadata": {},
   "outputs": [],
   "source": []
  },
  {
   "cell_type": "code",
   "execution_count": 80,
   "metadata": {},
   "outputs": [],
   "source": [
    "script_dir = os.getcwd()\n",
    "np.set_printoptions(precision=6,threshold=sys.maxsize)"
   ]
  },
  {
   "cell_type": "code",
   "execution_count": 81,
   "metadata": {},
   "outputs": [],
   "source": [
    "#set parameters\n",
    "H=0.04\n",
    "#H=0.05\n",
    "T=0.0\n",
    "D=8\n",
    "#experimental resolution\n",
    "res=8.0"
   ]
  },
  {
   "cell_type": "code",
   "execution_count": 82,
   "metadata": {},
   "outputs": [],
   "source": [
    "#Input data parameters\n",
    "# Names of theoretical spectra files follow the convention \"molecule form wide functional\"\n",
    "molecule='68'\n",
    "form='closed'\n",
    "functional=[\"pbe0\",\"pbe0-d3\",'b3lyp', 'b3lyp-d3', 'cam-b3lyp', 'cam-b3lyp-d3','m06l','wb97-xd']\n",
    "#scaling factors for given functionals\n",
    "scaling_f={'pbe0':0.95, 'pbe0-d3':0.95, 'b3lyp': 0.959, 'b3lyp-d3': 0.959, 'cam-b3lyp': 0.951, 'cam-b3lyp-d3': 0.951,'m06l': 0.951, 'wb97-xd': 0.95}\n"
   ]
  },
  {
   "cell_type": "code",
   "execution_count": 83,
   "metadata": {},
   "outputs": [
    {
     "name": "stdout",
     "output_type": "stream",
     "text": [
      "Peaks detected of min. height of 0.04, vertical threshold 0.0 and 8-point distance between neighbors are: \n",
      "[505.2833, 555.4258, 566.033, 615.2113, 851.4601, 933.424, 968.1381, 978.7452, 986.4595, 1000.924, 1061.673, 1133.995, 1158.102, 1182.208, 1192.816, 1210.173, 1253.565, 1274.78, 1303.708, 1336.494, 1365.422, 1379.886, 1443.529, 1558.278, 1594.921, 1631.563, 1653.742, 1746.313, 2862.95, 2925.629, 2953.593, 2975.771]\n",
      "32 peaks fulfilling the criteria in experimental spectrum\n"
     ]
    }
   ],
   "source": [
    "#Read in the experimental data for the selected molecule\n",
    "#Data  in two columns without headers, separated by comma\n",
    "exp_spec = genfromtxt('Sheet1_68_closed_ok.csv', delimiter=',',dtype=float)\n",
    "wavenumbers=exp_spec[:,0]\n",
    "heights=exp_spec[:,1]/max(exp_spec[:,1])\n",
    "#height - minimal height of the peak, threshold - minimal vertical distance between a peak and its neighbor, Distance - minimal distance\n",
    "peaks, _ = find_peaks(heights,height=H,threshold=T,distance=D)\n",
    "y=[wavenumbers[j] for j in peaks]\n",
    "h_exp=[heights[j] for j in peaks]\n",
    "print(\"Peaks detected of min. height of {}, vertical threshold {} and {}-point distance between neighbors are: \".format(H,T,D))\n",
    "print(y)\n",
    "no_of_peaks=len(y)\n",
    "print(\"{} peaks fulfilling the criteria in experimental spectrum\".format(no_of_peaks))"
   ]
  },
  {
   "cell_type": "code",
   "execution_count": 84,
   "metadata": {},
   "outputs": [
    {
     "name": "stdout",
     "output_type": "stream",
     "text": [
      "pbe0\n",
      "Theoretical peaks detected of min. height of 0.04, vertical threshold 0.0 and 8-point distance between neighbors are: \n",
      "[496.84999999999997, 544.35, 551.9499999999999, 606.1, 628.9, 728.65, 774.25, 802.75, 833.15, 909.15, 941.4499999999999, 964.25, 981.3499999999999, 1053.55, 1079.2, 1103.8999999999999, 1130.5, 1141.8999999999999, 1165.6499999999999, 1182.75, 1206.5, 1232.1499999999999, 1290.1, 1307.2, 1331.8999999999999, 1368.95, 1381.3, 1384.1499999999999, 1609.3, 1642.55, 1653.0, 1660.6, 2902.25, 2910.7999999999997, 2981.1, 3015.2999999999997]\n"
     ]
    },
    {
     "data": {
      "image/png": "[encoded data removed]",
      "text/plain": [
       "<Figure size 432x288 with 1 Axes>"
      ]
     },
     "metadata": {
      "needs_background": "light"
     },
     "output_type": "display_data"
    },
    {
     "name": "stdout",
     "output_type": "stream",
     "text": [
      "Error calculation:\n",
      "Maximum exp. peak at  1133.995  height:  1.0\n",
      "Starting peak at  1130.5  height:  0.08512950623853661\n"
     ]
    },
    {
     "ename": "TypeError",
     "evalue": "list indices must be integers or slices, not numpy.float64",
     "output_type": "error",
     "traceback": [
      "\u001b[0;31m---------------------------------------------------------------------------\u001b[0m",
      "\u001b[0;31mTypeError\u001b[0m                                 Traceback (most recent call last)",
      "\u001b[0;32m/var/folders/21/yfg3yp7x6bd0q28q_7c9364c0000gp/T/ipykernel_3535/253679241.py\u001b[0m in \u001b[0;36m<module>\u001b[0;34m\u001b[0m\n\u001b[1;32m     30\u001b[0m     \u001b[0mplt\u001b[0m\u001b[0;34m.\u001b[0m\u001b[0mxlim\u001b[0m\u001b[0;34m(\u001b[0m\u001b[0mxmin\u001b[0m\u001b[0;34m=\u001b[0m\u001b[0;36m400\u001b[0m\u001b[0;34m,\u001b[0m\u001b[0mxmax\u001b[0m\u001b[0;34m=\u001b[0m\u001b[0;36m3000\u001b[0m\u001b[0;34m)\u001b[0m\u001b[0;34m\u001b[0m\u001b[0;34m\u001b[0m\u001b[0m\n\u001b[1;32m     31\u001b[0m     \u001b[0mplt\u001b[0m\u001b[0;34m.\u001b[0m\u001b[0mshow\u001b[0m\u001b[0;34m(\u001b[0m\u001b[0;34m)\u001b[0m\u001b[0;34m\u001b[0m\u001b[0;34m\u001b[0m\u001b[0m\n\u001b[0;32m---> 32\u001b[0;31m     \u001b[0mm\u001b[0m\u001b[0;34m,\u001b[0m\u001b[0mn\u001b[0m\u001b[0;34m=\u001b[0m\u001b[0mcalculate_MAE\u001b[0m\u001b[0;34m(\u001b[0m\u001b[0;34m)\u001b[0m\u001b[0;34m\u001b[0m\u001b[0;34m\u001b[0m\u001b[0m\n\u001b[0m\u001b[1;32m     33\u001b[0m     \u001b[0mMAEs\u001b[0m\u001b[0;34m[\u001b[0m\u001b[0mfuns\u001b[0m\u001b[0;34m]\u001b[0m\u001b[0;34m=\u001b[0m\u001b[0mm\u001b[0m\u001b[0;34m\u001b[0m\u001b[0;34m\u001b[0m\u001b[0m\n\u001b[1;32m     34\u001b[0m     \u001b[0mpeaks_assigned\u001b[0m\u001b[0;34m[\u001b[0m\u001b[0mfuns\u001b[0m\u001b[0;34m]\u001b[0m\u001b[0;34m=\u001b[0m\u001b[0mn\u001b[0m\u001b[0;34m\u001b[0m\u001b[0;34m\u001b[0m\u001b[0m\n",
      "\u001b[0;32m/var/folders/21/yfg3yp7x6bd0q28q_7c9364c0000gp/T/ipykernel_3535/1438831872.py\u001b[0m in \u001b[0;36mcalculate_MAE\u001b[0;34m()\u001b[0m\n\u001b[1;32m     58\u001b[0m      \u001b[0;31m#           break\u001b[0m\u001b[0;34m\u001b[0m\u001b[0;34m\u001b[0m\u001b[0;34m\u001b[0m\u001b[0m\n\u001b[1;32m     59\u001b[0m             \u001b[0;32melse\u001b[0m\u001b[0;34m:\u001b[0m\u001b[0;34m\u001b[0m\u001b[0;34m\u001b[0m\u001b[0m\n\u001b[0;32m---> 60\u001b[0;31m                 \u001b[0;32mif\u001b[0m \u001b[0my\u001b[0m\u001b[0;34m[\u001b[0m\u001b[0mi\u001b[0m\u001b[0;34m]\u001b[0m\u001b[0;34m-\u001b[0m\u001b[0my_theo\u001b[0m\u001b[0;34m[\u001b[0m\u001b[0mj\u001b[0m\u001b[0;34m]\u001b[0m\u001b[0;34m<\u001b[0m\u001b[0;34m-\u001b[0m\u001b[0mtol\u001b[0m \u001b[0;34m:\u001b[0m\u001b[0;34m\u001b[0m\u001b[0;34m\u001b[0m\u001b[0m\n\u001b[0m\u001b[1;32m     61\u001b[0m                     \u001b[0mprint\u001b[0m\u001b[0;34m(\u001b[0m\u001b[0;34m'error > '\u001b[0m\u001b[0;34m,\u001b[0m\u001b[0mtol\u001b[0m\u001b[0;34m,\u001b[0m\u001b[0;34m', skipping the experimental peak '\u001b[0m\u001b[0;34m,\u001b[0m\u001b[0my\u001b[0m\u001b[0;34m[\u001b[0m\u001b[0mi\u001b[0m\u001b[0;34m]\u001b[0m\u001b[0;34m,\u001b[0m\u001b[0;34m' cm-1 height '\u001b[0m\u001b[0;34m,\u001b[0m\u001b[0mh_exp\u001b[0m\u001b[0;34m[\u001b[0m\u001b[0mi\u001b[0m\u001b[0;34m]\u001b[0m\u001b[0;34m)\u001b[0m\u001b[0;34m\u001b[0m\u001b[0;34m\u001b[0m\u001b[0m\n\u001b[1;32m     62\u001b[0m                     \u001b[0;32mbreak\u001b[0m\u001b[0;34m\u001b[0m\u001b[0;34m\u001b[0m\u001b[0m\n",
      "\u001b[0;31mTypeError\u001b[0m: list indices must be integers or slices, not numpy.float64"
     ]
    }
   ],
   "source": [
    "#For selected functionals read the spectra and calculate the MAEs\n",
    "MAEs={}\n",
    "peaks_assigned={}\n",
    "for funs in functional:\n",
    "    print(funs)\n",
    "    theo_spec=read_theo(molecule,form,funs) \n",
    "    SF=scaling_f[funs]\n",
    "    \n",
    "    wavenumbers_theo=SF*theo_spec[:,0]\n",
    "    heights_theo=theo_spec[:,1]/max(theo_spec[:,1])\n",
    "    \n",
    "    peaks_theo=theo_peaks(SF,wavenumbers_theo,heights_theo)\n",
    "    \n",
    "    y_theo=[wavenumbers_theo[j] for j in peaks_theo]\n",
    "    print(\"Theoretical peaks detected of min. height of {}, vertical threshold {} and {}-point distance between neighbors are: \".format(H,T,D))\n",
    "    print(y_theo)\n",
    "    h_theo=[heights_theo[j] for j in peaks_theo]\n",
    "    #print(h_theo)\n",
    "    no_of_peaks=len(y_theo)\n",
    "    \n",
    "    #draw the spectra comparison\n",
    "    plt.plot(wavenumbers,heights)\n",
    "    plt.ylim(ymin=0,ymax=1)\n",
    "    plt.xlim(xmin=400,xmax=4000)\n",
    "    plt.plot(y,heights[peaks],\"x\")\n",
    "#fig, ax = plt.subplots()\n",
    "    plt.stem(y_theo, heights_theo[peaks_theo],markerfmt=' ',linefmt='grey')\n",
    "#plt.stem(y_theo,heights[peaks_theo] ,markerfmt=' ',linefmt='grey')\n",
    "    plt.ylim(ymin=0,ymax=1)\n",
    "    plt.xlim(xmin=400,xmax=3000)\n",
    "    plt.show()\n",
    "    m,n=calculate_MAE()\n",
    "    MAEs[funs]=m\n",
    "    peaks_assigned[funs]=n\n",
    "    print(m,n)\n",
    "    \n",
    "pd.set_option('display.precision', 2)\n",
    "print(\"Calculated MAEs for each functional:\")\n",
    "df=pd.DataFrame.from_dict(MAEs,orient='index',columns=['MAE'])\n",
    "df['No. of assigned peaks']=peaks_assigned.values()\n",
    "\n",
    "display(df)\n",
    "#for funs in functional:\n",
    "#    print(funs,MAEs[funs],peaks_assigned[funs])\n",
    "    "
   ]
  },
  {
   "cell_type": "code",
   "execution_count": null,
   "metadata": {},
   "outputs": [],
   "source": [
    "\n"
   ]
  }
 ],
 "metadata": {
  "kernelspec": {
   "display_name": "Python 3 (ipykernel)",
   "language": "python",
   "name": "python3"
  },
  "language_info": {
   "codemirror_mode": {
    "name": "ipython",
    "version": 3
   },
   "file_extension": ".py",
   "mimetype": "text/x-python",
   "name": "python",
   "nbconvert_exporter": "python",
   "pygments_lexer": "ipython3",
   "version": "3.7.3"
  }
 },
 "nbformat": 4,
 "nbformat_minor": 4
}
